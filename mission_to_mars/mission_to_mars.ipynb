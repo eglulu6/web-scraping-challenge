{
 "cells": [
  {
   "cell_type": "code",
   "execution_count": 20,
   "metadata": {},
   "outputs": [],
   "source": [
    "# import dependancies\n",
    "import requests\n",
    "import time\n",
    "import pandas as pd\n",
    "import pymongo as mongo\n",
    "from bs4 import BeautifulSoup\n",
    "from splinter import Browser\n",
    "from webdriver_manager.chrome import ChromeDriverManager\n",
    "from pprint import pprint\n",
    "# initialize an empty list for pymongo dict\n",
    "mars_dict_list = []\n"
   ]
  },
  {
   "cell_type": "markdown",
   "metadata": {
    "jupyter": {
     "outputs_hidden": true
    }
   },
   "source": [
    "## Step 1 - Scraping\n",
    "### NASA Mars News\n",
    "\n",
    "* Scrape the [NASA Mars News Site](https://mars.nasa.gov/news/) and collect the latest News Title and Paragraph Text. Assign the text to variables that you can reference later."
   ]
  },
  {
   "cell_type": "code",
   "execution_count": 7,
   "metadata": {},
   "outputs": [
    {
     "name": "stderr",
     "output_type": "stream",
     "text": [
      "[WDM] - ====== WebDriver manager ======\n",
      "[WDM] - Current google-chrome version is 89.0.4389\n",
      "[WDM] - Get LATEST driver version for 89.0.4389\n",
      "[WDM] - Driver [C:\\Users\\Lola\\.wdm\\drivers\\chromedriver\\win32\\89.0.4389.23\\chromedriver.exe] found in cache\n"
     ]
    },
    {
     "name": "stdout",
     "output_type": "stream",
     "text": [
      "\n",
      "\n"
     ]
    }
   ],
   "source": [
    "# initialize dict for mars_dict_list in pymongo\n",
    "article_dict = {}\n",
    "\n",
    "# Setup splinter\n",
    "executable_path = {'executable_path': ChromeDriverManager().install()}\n",
    "browser = Browser('chrome', **executable_path, headless=False)\n",
    "\n",
    "# 1. URL of website\n",
    "mars_news_url = \"https://mars.nasa.gov/news/\"\n",
    "\n",
    "# 2. Get website response\n",
    "browser.visit(mars_news_url)\n",
    "\n",
    "# 3. Store response as text\n",
    "mars_news_html = browser.html\n",
    "\n",
    "# 4. Create soup object\n",
    "news_soup = BeautifulSoup(mars_news_html, 'html.parser')\n",
    "\n",
    "#Isolate the first news article title <div class=\"content-title\"/>\n",
    "all_content_titles = news_soup.find_all(\"div\", class_=\"content_title\")\n",
    "\n",
    "#capture result in variable\n",
    "article_dict['latest_title'] = all_content_titles[1].text.strip()\n",
    "\n",
    "#Isolate the paragraph for that article <div class=\"article_teaser_body\"/>\n",
    "all_article_teaser_body = news_soup.find_all('div', class_=\"article_teaser_body\")\n",
    "\n",
    "#capture result in variable\n",
    "article_dict['latest_paragraph'] = all_article_teaser_body[0].text.strip()\n",
    "\n",
    "# add values to mars_dict_list for pymongo\n",
    "mars_dict_list.append(article_dict)"
   ]
  },
  {
   "cell_type": "code",
   "execution_count": 10,
   "metadata": {},
   "outputs": [],
   "source": [
    "#quit broswer session\n",
    "browser.quit()"
   ]
  },
  {
   "cell_type": "markdown",
   "metadata": {},
   "source": [
    "### JPL Mars Space Images - Featured Image\n",
    "* Visit the url for JPL Featured Space Image [here](https://www.jpl.nasa.gov/spaceimages/?search=&category=Mars).\n",
    "* Navigate the site and find the image url for the current Featured Mars."
   ]
  },
  {
   "cell_type": "code",
   "execution_count": 11,
   "metadata": {},
   "outputs": [
    {
     "name": "stderr",
     "output_type": "stream",
     "text": [
      "[WDM] - ====== WebDriver manager ======\n",
      "[WDM] - Current google-chrome version is 89.0.4389\n",
      "[WDM] - Get LATEST driver version for 89.0.4389\n",
      "[WDM] - Driver [C:\\Users\\Lola\\.wdm\\drivers\\chromedriver\\win32\\89.0.4389.23\\chromedriver.exe] found in cache\n"
     ]
    },
    {
     "name": "stdout",
     "output_type": "stream",
     "text": [
      "\n",
      "\n"
     ]
    }
   ],
   "source": [
    "# initialize dict for mars_dict_list in pymongo\n",
    "featured_img_dict = {}   \n",
    "    \n",
    "# Setup splinter\n",
    "executable_path = {'executable_path': ChromeDriverManager().install()}\n",
    "browser = Browser('chrome', **executable_path, headless=False)\n",
    "\n",
    "# 1. URL of website\n",
    "jpl_imgs_url =\"https://www.jpl.nasa.gov/images?search=&category=Mars\"\n",
    "\n",
    "# 2. Get website response\n",
    "browser.visit(jpl_imgs_url)\n",
    "\n",
    "# 3. Store response as text\n",
    "jpl_imgs_html = browser.html\n",
    "\n",
    "# 4. Create soup object\n",
    "jpl_soup = BeautifulSoup(jpl_imgs_html, 'html.parser')\n",
    "\n",
    "#Find & click first img on page <img src = browser.find_by_css('img[class=\"BaseImage  object-contain\"]').first />\n",
    "featured_img_click = browser.find_by_css('img[class=\"BaseImage  object-contain\"]').first.click()\n",
    "\n",
    "# Store response as text\n",
    "featured_img_html = browser.html\n",
    "\n",
    "# Create soup object of new page\n",
    "featured_soup = BeautifulSoup(featured_img_html, 'html.parser')\n",
    "\n",
    "# capture fullsize featured img url\n",
    "featured_img_dict['featured_image_url'] = featured_soup.find('img', class_= 'BaseImage')['src']\n",
    "\n",
    "# add values to mars_dict_list for pymongo\n",
    "mars_dict_list.append(featured_img_dict)\n",
    "\n",
    "# quit browser session\n",
    "browser.quit()"
   ]
  },
  {
   "cell_type": "markdown",
   "metadata": {},
   "source": [
    "### Mars Facts\n",
    "* Visit the Mars Facts webpage [here](https://space-facts.com/mars/)\n",
    "* Scrape facts about the planet including Diameter, Mass, etc.\n"
   ]
  },
  {
   "cell_type": "code",
   "execution_count": 21,
   "metadata": {},
   "outputs": [
    {
     "name": "stdout",
     "output_type": "stream",
     "text": [
      "('<table border=\"1\" class=\"dataframe\">\\n'\n",
      " '  <thead>\\n'\n",
      " '    <tr style=\"text-align: right;\">\\n'\n",
      " '      <th></th>\\n'\n",
      " '      <th>Title</th>\\n'\n",
      " '      <th>Fact</th>\\n'\n",
      " '    </tr>\\n'\n",
      " '  </thead>\\n'\n",
      " '  <tbody>\\n'\n",
      " '    <tr>\\n'\n",
      " '      <th>0</th>\\n'\n",
      " '      <td>Equatorial Diameter:</td>\\n'\n",
      " '      <td>6,792 km</td>\\n'\n",
      " '    </tr>\\n'\n",
      " '    <tr>\\n'\n",
      " '      <th>1</th>\\n'\n",
      " '      <td>Polar Diameter:</td>\\n'\n",
      " '      <td>6,752 km</td>\\n'\n",
      " '    </tr>\\n'\n",
      " '    <tr>\\n'\n",
      " '      <th>2</th>\\n'\n",
      " '      <td>Mass:</td>\\n'\n",
      " '      <td>6.39 × 10^23 kg (0.11 Earths)</td>\\n'\n",
      " '    </tr>\\n'\n",
      " '    <tr>\\n'\n",
      " '      <th>3</th>\\n'\n",
      " '      <td>Moons:</td>\\n'\n",
      " '      <td>2 (Phobos &amp; Deimos)</td>\\n'\n",
      " '    </tr>\\n'\n",
      " '    <tr>\\n'\n",
      " '      <th>4</th>\\n'\n",
      " '      <td>Orbit Distance:</td>\\n'\n",
      " '      <td>227,943,824 km (1.38 AU)</td>\\n'\n",
      " '    </tr>\\n'\n",
      " '    <tr>\\n'\n",
      " '      <th>5</th>\\n'\n",
      " '      <td>Orbit Period:</td>\\n'\n",
      " '      <td>687 days (1.9 years)</td>\\n'\n",
      " '    </tr>\\n'\n",
      " '    <tr>\\n'\n",
      " '      <th>6</th>\\n'\n",
      " '      <td>Surface Temperature:</td>\\n'\n",
      " '      <td>-87 to -5 °C</td>\\n'\n",
      " '    </tr>\\n'\n",
      " '    <tr>\\n'\n",
      " '      <th>7</th>\\n'\n",
      " '      <td>First Record:</td>\\n'\n",
      " '      <td>2nd millennium BC</td>\\n'\n",
      " '    </tr>\\n'\n",
      " '    <tr>\\n'\n",
      " '      <th>8</th>\\n'\n",
      " '      <td>Recorded By:</td>\\n'\n",
      " '      <td>Egyptian astronomers</td>\\n'\n",
      " '    </tr>\\n'\n",
      " '  </tbody>\\n'\n",
      " '</table>')\n"
     ]
    }
   ],
   "source": [
    "\n",
    "# URL of website\n",
    "facts_url =\"https://space-facts.com/mars/\"\n",
    "\n",
    "# Store response as text\n",
    "facts_html = pd.read_html(facts_url)\n",
    "\n",
    "# get first table\n",
    "facts_table = facts_html[0]\n",
    "\n",
    "#give columns headers\n",
    "facts_table.columns = ['Title', 'Fact']\n",
    "\n",
    "# convert df into html\n",
    "pprint(facts_table.to_html())\n"
   ]
  },
  {
   "cell_type": "markdown",
   "metadata": {},
   "source": [
    "### USGS Astrogeology site - Mars Hemispheres\n",
    "\n",
    "* Visit the USGS Astrogeology site [here](https://astrogeology.usgs.gov/search/results?q=hemisphere+enhanced&k1=target&v1=Mars) to obtain high resolution images for each of Mar's hemispheres.\n",
    "* Save both the image url string for the full resolution hemisphere image, and the Hemisphere title containing the hemisphere name. "
   ]
  },
  {
   "cell_type": "code",
   "execution_count": 13,
   "metadata": {},
   "outputs": [
    {
     "name": "stderr",
     "output_type": "stream",
     "text": [
      "[WDM] - ====== WebDriver manager ======\n",
      "[WDM] - Current google-chrome version is 89.0.4389\n",
      "[WDM] - Get LATEST driver version for 89.0.4389\n",
      "[WDM] - Driver [C:\\Users\\Lola\\.wdm\\drivers\\chromedriver\\win32\\89.0.4389.23\\chromedriver.exe] found in cache\n"
     ]
    },
    {
     "name": "stdout",
     "output_type": "stream",
     "text": [
      "\n",
      "\n"
     ]
    },
    {
     "data": {
      "text/plain": [
       "[{'latest_title': 'NASA Ingenuity Mars Helicopter Prepares for First Flight',\n",
       "  'latest_paragraph': 'Now uncocooned from its protective carbon-fiber shield, the helicopter is being readied for its next steps.'},\n",
       " {'featured_image_url': 'https://d2pn8kiwq2w21t.cloudfront.net/images/jpegPIA24510.2e16d0ba.fill-400x400-c50.jpg'},\n",
       " {'img_url': 'https://astropedia.astrogeology.usgs.gov/download/Mars/Viking/cerberus_enhanced.tif',\n",
       "  'title': 'Cerberus Hemisphere Enhanced'},\n",
       " {'img_url': 'https://astropedia.astrogeology.usgs.gov/download/Mars/Viking/cerberus_enhanced.tif',\n",
       "  'title': 'Cerberus Hemisphere Enhanced'},\n",
       " {'img_url': 'https://astropedia.astrogeology.usgs.gov/download/Mars/Viking/cerberus_enhanced.tif',\n",
       "  'title': 'Cerberus Hemisphere Enhanced'},\n",
       " {'img_url': 'https://astropedia.astrogeology.usgs.gov/download/Mars/Viking/cerberus_enhanced.tif',\n",
       "  'title': 'Cerberus Hemisphere Enhanced'}]"
      ]
     },
     "execution_count": 13,
     "metadata": {},
     "output_type": "execute_result"
    }
   ],
   "source": [
    "#Open the page with splinter\n",
    "executable_path = {'executable_path': ChromeDriverManager().install()}\n",
    "browser = Browser('chrome', **executable_path, headless=False)\n",
    "\n",
    "#1. URL of website\n",
    "hemi_url =\"https://astrogeology.usgs.gov/search/results?q=hemisphere+enhanced&k1=target&v1=Mars\"\n",
    "\n",
    "#2. Get website response\n",
    "browser.visit(hemi_url)\n",
    "\n",
    "#3. Store response as text\n",
    "all_hemi_html = browser.html\n",
    "\n",
    "#4. Create soup object\n",
    "all_hemi_soup = BeautifulSoup(all_hemi_html, 'html.parser')\n",
    "all_hemi_soup\n",
    "\n",
    "#find all imgs\n",
    "hemi_all_img = all_hemi_soup.find_all('img', class_='thumb')\n",
    "\n",
    "# initialize dict for mars_dict_list in pymongo\n",
    "hemi_dict = {}\n",
    "\n",
    "# Start loop to get img and title on all hemishpere\n",
    "for img in hemi_all_img:\n",
    "    #Locate img link\n",
    "    img_target = 'img[class=\"thumb\"]'\n",
    "    #Click the link\n",
    "    browser.find_by_tag(img_target).click()\n",
    "    #Store response as text\n",
    "    one_hemi_html = browser.html\n",
    "    #Create soup object\n",
    "    one_hemi_soup = BeautifulSoup(one_hemi_html, 'html.parser')\n",
    "    #Save img url and title to variable        \n",
    "    hemi_dict['img_url'] = one_hemi_soup.find(\"a\", text=\"Original\")['href']\n",
    "    #Save hemishpere title\n",
    "    hemi_dict['title'] = one_hemi_soup.find(\"h2\", class_=\"title\").text\n",
    "    #Append the dict to list\n",
    "    mars_dict_list.append(hemi_dict)\n",
    "    #Click the back button\n",
    "    browser.back()\n",
    "#check your list\n",
    "hemi_dict"
   ]
  },
  {
   "cell_type": "markdown",
   "metadata": {},
   "source": [
    "## Step 2 - MongoDB and Flask Application\n",
    "\n",
    "Use MongoDB with Flask templating to create a new HTML page that displays all of the information that was scraped from the URLs above.\n",
    "\n",
    "* Start by converting your Jupyter notebook into a Python script called `scrape_mars.py` with a function called `scrape` that will execute all of your scraping code from above and return one Python dictionary containing all of the scraped data.\n",
    "\n",
    "* Next, create a route called `/scrape` that will import your `scrape_mars.py` script and call your `scrape` function.\n",
    "\n",
    "  * Store the return value in Mongo as a Python dictionary.\n",
    "\n",
    "* Create a root route `/` that will query your Mongo database and pass the mars data into an HTML template to display the data.\n",
    "\n",
    "* Create a template HTML file called `index.html` that will take the mars data dictionary and display all of the data in the appropriate HTML elements. Use the following as a guide for what the final product should look like, but feel free to create your own design."
   ]
  },
  {
   "cell_type": "code",
   "execution_count": null,
   "metadata": {},
   "outputs": [],
   "source": [
    "# create connection to mongo database\n",
    "conn = 'mongodb://localhost:27017'\n",
    "client = pymongo.MongoClient(conn)\n",
    "\n",
    "# create new data base\n",
    "db = client.mars_db\n",
    "\n",
    "# drop the collection if it already exists\n",
    "db.mars.drop()\n",
    "\n",
    "# instert our list of mini dictionaries from scraping\n",
    "db.mars.insert_many(quotes_list)"
   ]
  },
  {
   "cell_type": "code",
   "execution_count": null,
   "metadata": {},
   "outputs": [],
   "source": []
  },
  {
   "cell_type": "code",
   "execution_count": null,
   "metadata": {},
   "outputs": [],
   "source": []
  },
  {
   "cell_type": "code",
   "execution_count": null,
   "metadata": {},
   "outputs": [],
   "source": []
  },
  {
   "cell_type": "code",
   "execution_count": null,
   "metadata": {},
   "outputs": [],
   "source": []
  },
  {
   "cell_type": "code",
   "execution_count": null,
   "metadata": {},
   "outputs": [],
   "source": [
    "\n"
   ]
  }
 ],
 "metadata": {
  "kernelspec": {
   "display_name": "Python 3",
   "language": "python",
   "name": "python3"
  },
  "language_info": {
   "codemirror_mode": {
    "name": "ipython",
    "version": 3
   },
   "file_extension": ".py",
   "mimetype": "text/x-python",
   "name": "python",
   "nbconvert_exporter": "python",
   "pygments_lexer": "ipython3",
   "version": "3.8.5"
  }
 },
 "nbformat": 4,
 "nbformat_minor": 4
}
